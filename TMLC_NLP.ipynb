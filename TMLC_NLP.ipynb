{
 "cells": [
  {
   "cell_type": "code",
   "execution_count": 157,
   "source": [
    "import pandas as pd\r\n",
    "#library that has punctuations\r\n",
    "import string\r\n",
    "import re\r\n",
    "#importing nlp library\r\n",
    "import nlp\r\n",
    "#importing nlp library\r\n",
    "import nltk \r\n",
    "#importing the Stemming function from nltk library\r\n",
    "from nltk.stem.porter import PorterStemmer\r\n",
    "from nltk.stem import WordNetLemmatizer\r\n",
    "#defining the object for Lemmatization\r\n",
    "wordnet_lemmatizer = WordNetLemmatizer()"
   ],
   "outputs": [],
   "metadata": {}
  },
  {
   "cell_type": "code",
   "execution_count": 158,
   "source": [
    "df=pd.read_csv(\"Twitter_Data.csv\")\r\n",
    "df.head(10)"
   ],
   "outputs": [
    {
     "output_type": "execute_result",
     "data": {
      "text/html": [
       "<div>\n",
       "<style scoped>\n",
       "    .dataframe tbody tr th:only-of-type {\n",
       "        vertical-align: middle;\n",
       "    }\n",
       "\n",
       "    .dataframe tbody tr th {\n",
       "        vertical-align: top;\n",
       "    }\n",
       "\n",
       "    .dataframe thead th {\n",
       "        text-align: right;\n",
       "    }\n",
       "</style>\n",
       "<table border=\"1\" class=\"dataframe\">\n",
       "  <thead>\n",
       "    <tr style=\"text-align: right;\">\n",
       "      <th></th>\n",
       "      <th>clean_text</th>\n",
       "      <th>category</th>\n",
       "    </tr>\n",
       "  </thead>\n",
       "  <tbody>\n",
       "    <tr>\n",
       "      <th>0</th>\n",
       "      <td>when modi promised “minimum government maximum governance” expected him begin the difficult job reforming the state why does take years get justice state should and not business and should exit psus and temples</td>\n",
       "      <td>-1.0</td>\n",
       "    </tr>\n",
       "    <tr>\n",
       "      <th>1</th>\n",
       "      <td>talk all the nonsense and continue all the drama will vote for modi</td>\n",
       "      <td>0.0</td>\n",
       "    </tr>\n",
       "    <tr>\n",
       "      <th>2</th>\n",
       "      <td>what did just say vote for modi  welcome bjp told you rahul the main campaigner for modi think modi should just relax</td>\n",
       "      <td>1.0</td>\n",
       "    </tr>\n",
       "    <tr>\n",
       "      <th>3</th>\n",
       "      <td>asking his supporters prefix chowkidar their names modi did great service now there confusion what read what not now crustal clear what will crass filthy nonsensical see how most abuses are coming from chowkidars</td>\n",
       "      <td>1.0</td>\n",
       "    </tr>\n",
       "    <tr>\n",
       "      <th>4</th>\n",
       "      <td>answer who among these the most powerful world leader today trump putin modi may</td>\n",
       "      <td>1.0</td>\n",
       "    </tr>\n",
       "    <tr>\n",
       "      <th>5</th>\n",
       "      <td>kiya tho refresh maarkefir comment karo</td>\n",
       "      <td>0.0</td>\n",
       "    </tr>\n",
       "    <tr>\n",
       "      <th>6</th>\n",
       "      <td>surat women perform yagna seeks divine grace for narendra modi become again\\n</td>\n",
       "      <td>0.0</td>\n",
       "    </tr>\n",
       "    <tr>\n",
       "      <th>7</th>\n",
       "      <td>this comes from cabinet which has scholars like modi smriti and hema time introspect</td>\n",
       "      <td>0.0</td>\n",
       "    </tr>\n",
       "    <tr>\n",
       "      <th>8</th>\n",
       "      <td>with upcoming election india saga going important pair look current modi leads govt elected with deal brexit combination this weekly looks juicy bears imho</td>\n",
       "      <td>1.0</td>\n",
       "    </tr>\n",
       "    <tr>\n",
       "      <th>9</th>\n",
       "      <td>gandhi was gay does modi</td>\n",
       "      <td>1.0</td>\n",
       "    </tr>\n",
       "  </tbody>\n",
       "</table>\n",
       "</div>"
      ],
      "text/plain": [
       "                                                                                                                                                                                                             clean_text  \\\n",
       "0  when modi promised “minimum government maximum governance” expected him begin the difficult job reforming the state why does take years get justice state should and not business and should exit psus and temples     \n",
       "1  talk all the nonsense and continue all the drama will vote for modi                                                                                                                                                    \n",
       "2  what did just say vote for modi  welcome bjp told you rahul the main campaigner for modi think modi should just relax                                                                                                  \n",
       "3  asking his supporters prefix chowkidar their names modi did great service now there confusion what read what not now crustal clear what will crass filthy nonsensical see how most abuses are coming from chowkidars   \n",
       "4  answer who among these the most powerful world leader today trump putin modi may                                                                                                                                       \n",
       "5  kiya tho refresh maarkefir comment karo                                                                                                                                                                                \n",
       "6  surat women perform yagna seeks divine grace for narendra modi become again\\n                                                                                                                                          \n",
       "7  this comes from cabinet which has scholars like modi smriti and hema time introspect                                                                                                                                   \n",
       "8  with upcoming election india saga going important pair look current modi leads govt elected with deal brexit combination this weekly looks juicy bears imho                                                            \n",
       "9  gandhi was gay does modi                                                                                                                                                                                               \n",
       "\n",
       "   category  \n",
       "0 -1.0       \n",
       "1  0.0       \n",
       "2  1.0       \n",
       "3  1.0       \n",
       "4  1.0       \n",
       "5  0.0       \n",
       "6  0.0       \n",
       "7  0.0       \n",
       "8  1.0       \n",
       "9  1.0       "
      ]
     },
     "metadata": {},
     "execution_count": 158
    }
   ],
   "metadata": {}
  },
  {
   "cell_type": "code",
   "execution_count": 159,
   "source": [
    "#expanding the dispay of text sms column\r\n",
    "pd.set_option('display.max_colwidth', -1)\r\n",
    "#using only text and category\r\n",
    "df= df [['clean_text','category']]\r\n",
    "df.head()"
   ],
   "outputs": [
    {
     "output_type": "stream",
     "name": "stderr",
     "text": [
      "C:\\Users\\DELL\\AppData\\Local\\Temp/ipykernel_7668/2229160637.py:2: FutureWarning: Passing a negative integer is deprecated in version 1.0 and will not be supported in future version. Instead, use None to not limit the column width.\n",
      "  pd.set_option('display.max_colwidth', -1)\n"
     ]
    },
    {
     "output_type": "execute_result",
     "data": {
      "text/html": [
       "<div>\n",
       "<style scoped>\n",
       "    .dataframe tbody tr th:only-of-type {\n",
       "        vertical-align: middle;\n",
       "    }\n",
       "\n",
       "    .dataframe tbody tr th {\n",
       "        vertical-align: top;\n",
       "    }\n",
       "\n",
       "    .dataframe thead th {\n",
       "        text-align: right;\n",
       "    }\n",
       "</style>\n",
       "<table border=\"1\" class=\"dataframe\">\n",
       "  <thead>\n",
       "    <tr style=\"text-align: right;\">\n",
       "      <th></th>\n",
       "      <th>clean_text</th>\n",
       "      <th>category</th>\n",
       "    </tr>\n",
       "  </thead>\n",
       "  <tbody>\n",
       "    <tr>\n",
       "      <th>0</th>\n",
       "      <td>when modi promised “minimum government maximum governance” expected him begin the difficult job reforming the state why does take years get justice state should and not business and should exit psus and temples</td>\n",
       "      <td>-1.0</td>\n",
       "    </tr>\n",
       "    <tr>\n",
       "      <th>1</th>\n",
       "      <td>talk all the nonsense and continue all the drama will vote for modi</td>\n",
       "      <td>0.0</td>\n",
       "    </tr>\n",
       "    <tr>\n",
       "      <th>2</th>\n",
       "      <td>what did just say vote for modi  welcome bjp told you rahul the main campaigner for modi think modi should just relax</td>\n",
       "      <td>1.0</td>\n",
       "    </tr>\n",
       "    <tr>\n",
       "      <th>3</th>\n",
       "      <td>asking his supporters prefix chowkidar their names modi did great service now there confusion what read what not now crustal clear what will crass filthy nonsensical see how most abuses are coming from chowkidars</td>\n",
       "      <td>1.0</td>\n",
       "    </tr>\n",
       "    <tr>\n",
       "      <th>4</th>\n",
       "      <td>answer who among these the most powerful world leader today trump putin modi may</td>\n",
       "      <td>1.0</td>\n",
       "    </tr>\n",
       "  </tbody>\n",
       "</table>\n",
       "</div>"
      ],
      "text/plain": [
       "                                                                                                                                                                                                             clean_text  \\\n",
       "0  when modi promised “minimum government maximum governance” expected him begin the difficult job reforming the state why does take years get justice state should and not business and should exit psus and temples     \n",
       "1  talk all the nonsense and continue all the drama will vote for modi                                                                                                                                                    \n",
       "2  what did just say vote for modi  welcome bjp told you rahul the main campaigner for modi think modi should just relax                                                                                                  \n",
       "3  asking his supporters prefix chowkidar their names modi did great service now there confusion what read what not now crustal clear what will crass filthy nonsensical see how most abuses are coming from chowkidars   \n",
       "4  answer who among these the most powerful world leader today trump putin modi may                                                                                                                                       \n",
       "\n",
       "   category  \n",
       "0 -1.0       \n",
       "1  0.0       \n",
       "2  1.0       \n",
       "3  1.0       \n",
       "4  1.0       "
      ]
     },
     "metadata": {},
     "execution_count": 159
    }
   ],
   "metadata": {}
  },
  {
   "cell_type": "code",
   "execution_count": 160,
   "source": [
    "df['clean_text'].dtype"
   ],
   "outputs": [
    {
     "output_type": "execute_result",
     "data": {
      "text/plain": [
       "dtype('O')"
      ]
     },
     "metadata": {},
     "execution_count": 160
    }
   ],
   "metadata": {}
  },
  {
   "cell_type": "code",
   "execution_count": 161,
   "source": [
    "df.info()"
   ],
   "outputs": [
    {
     "output_type": "stream",
     "name": "stdout",
     "text": [
      "<class 'pandas.core.frame.DataFrame'>\n",
      "RangeIndex: 162980 entries, 0 to 162979\n",
      "Data columns (total 2 columns):\n",
      " #   Column      Non-Null Count   Dtype  \n",
      "---  ------      --------------   -----  \n",
      " 0   clean_text  162976 non-null  object \n",
      " 1   category    162973 non-null  float64\n",
      "dtypes: float64(1), object(1)\n",
      "memory usage: 2.5+ MB\n"
     ]
    }
   ],
   "metadata": {}
  },
  {
   "cell_type": "code",
   "execution_count": 162,
   "source": [
    "df.isna().sum()"
   ],
   "outputs": [
    {
     "output_type": "execute_result",
     "data": {
      "text/plain": [
       "clean_text    4\n",
       "category      7\n",
       "dtype: int64"
      ]
     },
     "metadata": {},
     "execution_count": 162
    }
   ],
   "metadata": {}
  },
  {
   "cell_type": "code",
   "execution_count": 163,
   "source": [
    "df = df.dropna()"
   ],
   "outputs": [],
   "metadata": {}
  },
  {
   "cell_type": "code",
   "execution_count": 164,
   "source": [
    "df.info()"
   ],
   "outputs": [
    {
     "output_type": "stream",
     "name": "stdout",
     "text": [
      "<class 'pandas.core.frame.DataFrame'>\n",
      "Int64Index: 162969 entries, 0 to 162979\n",
      "Data columns (total 2 columns):\n",
      " #   Column      Non-Null Count   Dtype  \n",
      "---  ------      --------------   -----  \n",
      " 0   clean_text  162969 non-null  object \n",
      " 1   category    162969 non-null  float64\n",
      "dtypes: float64(1), object(1)\n",
      "memory usage: 3.7+ MB\n"
     ]
    }
   ],
   "metadata": {}
  },
  {
   "cell_type": "markdown",
   "source": [
    "## Punctuation Removal: "
   ],
   "metadata": {}
  },
  {
   "cell_type": "code",
   "execution_count": 165,
   "source": [
    "def remove_punctuation(text):\r\n",
    "    punctuationfree=\"\".join([i for i in text if i not in string.punctuation])\r\n",
    "    return punctuationfree\r\n",
    "#storing the puntuation free text\r\n",
    "df['clean_msg']= df['clean_text'].apply(lambda x:remove_punctuation(x))\r\n",
    "df.head()"
   ],
   "outputs": [
    {
     "output_type": "execute_result",
     "data": {
      "text/html": [
       "<div>\n",
       "<style scoped>\n",
       "    .dataframe tbody tr th:only-of-type {\n",
       "        vertical-align: middle;\n",
       "    }\n",
       "\n",
       "    .dataframe tbody tr th {\n",
       "        vertical-align: top;\n",
       "    }\n",
       "\n",
       "    .dataframe thead th {\n",
       "        text-align: right;\n",
       "    }\n",
       "</style>\n",
       "<table border=\"1\" class=\"dataframe\">\n",
       "  <thead>\n",
       "    <tr style=\"text-align: right;\">\n",
       "      <th></th>\n",
       "      <th>clean_text</th>\n",
       "      <th>category</th>\n",
       "      <th>clean_msg</th>\n",
       "    </tr>\n",
       "  </thead>\n",
       "  <tbody>\n",
       "    <tr>\n",
       "      <th>0</th>\n",
       "      <td>when modi promised “minimum government maximum governance” expected him begin the difficult job reforming the state why does take years get justice state should and not business and should exit psus and temples</td>\n",
       "      <td>-1.0</td>\n",
       "      <td>when modi promised “minimum government maximum governance” expected him begin the difficult job reforming the state why does take years get justice state should and not business and should exit psus and temples</td>\n",
       "    </tr>\n",
       "    <tr>\n",
       "      <th>1</th>\n",
       "      <td>talk all the nonsense and continue all the drama will vote for modi</td>\n",
       "      <td>0.0</td>\n",
       "      <td>talk all the nonsense and continue all the drama will vote for modi</td>\n",
       "    </tr>\n",
       "    <tr>\n",
       "      <th>2</th>\n",
       "      <td>what did just say vote for modi  welcome bjp told you rahul the main campaigner for modi think modi should just relax</td>\n",
       "      <td>1.0</td>\n",
       "      <td>what did just say vote for modi  welcome bjp told you rahul the main campaigner for modi think modi should just relax</td>\n",
       "    </tr>\n",
       "    <tr>\n",
       "      <th>3</th>\n",
       "      <td>asking his supporters prefix chowkidar their names modi did great service now there confusion what read what not now crustal clear what will crass filthy nonsensical see how most abuses are coming from chowkidars</td>\n",
       "      <td>1.0</td>\n",
       "      <td>asking his supporters prefix chowkidar their names modi did great service now there confusion what read what not now crustal clear what will crass filthy nonsensical see how most abuses are coming from chowkidars</td>\n",
       "    </tr>\n",
       "    <tr>\n",
       "      <th>4</th>\n",
       "      <td>answer who among these the most powerful world leader today trump putin modi may</td>\n",
       "      <td>1.0</td>\n",
       "      <td>answer who among these the most powerful world leader today trump putin modi may</td>\n",
       "    </tr>\n",
       "  </tbody>\n",
       "</table>\n",
       "</div>"
      ],
      "text/plain": [
       "                                                                                                                                                                                                             clean_text  \\\n",
       "0  when modi promised “minimum government maximum governance” expected him begin the difficult job reforming the state why does take years get justice state should and not business and should exit psus and temples     \n",
       "1  talk all the nonsense and continue all the drama will vote for modi                                                                                                                                                    \n",
       "2  what did just say vote for modi  welcome bjp told you rahul the main campaigner for modi think modi should just relax                                                                                                  \n",
       "3  asking his supporters prefix chowkidar their names modi did great service now there confusion what read what not now crustal clear what will crass filthy nonsensical see how most abuses are coming from chowkidars   \n",
       "4  answer who among these the most powerful world leader today trump putin modi may                                                                                                                                       \n",
       "\n",
       "   category  \\\n",
       "0 -1.0        \n",
       "1  0.0        \n",
       "2  1.0        \n",
       "3  1.0        \n",
       "4  1.0        \n",
       "\n",
       "                                                                                                                                                                                                              clean_msg  \n",
       "0  when modi promised “minimum government maximum governance” expected him begin the difficult job reforming the state why does take years get justice state should and not business and should exit psus and temples    \n",
       "1  talk all the nonsense and continue all the drama will vote for modi                                                                                                                                                   \n",
       "2  what did just say vote for modi  welcome bjp told you rahul the main campaigner for modi think modi should just relax                                                                                                 \n",
       "3  asking his supporters prefix chowkidar their names modi did great service now there confusion what read what not now crustal clear what will crass filthy nonsensical see how most abuses are coming from chowkidars  \n",
       "4  answer who among these the most powerful world leader today trump putin modi may                                                                                                                                      "
      ]
     },
     "metadata": {},
     "execution_count": 165
    }
   ],
   "metadata": {}
  },
  {
   "cell_type": "markdown",
   "source": [
    "## Lowering the text: "
   ],
   "metadata": {}
  },
  {
   "cell_type": "code",
   "execution_count": 166,
   "source": [
    "df['msg_lower']= df['clean_msg'].apply(lambda x: x.lower())\r\n",
    "df.head()"
   ],
   "outputs": [
    {
     "output_type": "execute_result",
     "data": {
      "text/html": [
       "<div>\n",
       "<style scoped>\n",
       "    .dataframe tbody tr th:only-of-type {\n",
       "        vertical-align: middle;\n",
       "    }\n",
       "\n",
       "    .dataframe tbody tr th {\n",
       "        vertical-align: top;\n",
       "    }\n",
       "\n",
       "    .dataframe thead th {\n",
       "        text-align: right;\n",
       "    }\n",
       "</style>\n",
       "<table border=\"1\" class=\"dataframe\">\n",
       "  <thead>\n",
       "    <tr style=\"text-align: right;\">\n",
       "      <th></th>\n",
       "      <th>clean_text</th>\n",
       "      <th>category</th>\n",
       "      <th>clean_msg</th>\n",
       "      <th>msg_lower</th>\n",
       "    </tr>\n",
       "  </thead>\n",
       "  <tbody>\n",
       "    <tr>\n",
       "      <th>0</th>\n",
       "      <td>when modi promised “minimum government maximum governance” expected him begin the difficult job reforming the state why does take years get justice state should and not business and should exit psus and temples</td>\n",
       "      <td>-1.0</td>\n",
       "      <td>when modi promised “minimum government maximum governance” expected him begin the difficult job reforming the state why does take years get justice state should and not business and should exit psus and temples</td>\n",
       "      <td>when modi promised “minimum government maximum governance” expected him begin the difficult job reforming the state why does take years get justice state should and not business and should exit psus and temples</td>\n",
       "    </tr>\n",
       "    <tr>\n",
       "      <th>1</th>\n",
       "      <td>talk all the nonsense and continue all the drama will vote for modi</td>\n",
       "      <td>0.0</td>\n",
       "      <td>talk all the nonsense and continue all the drama will vote for modi</td>\n",
       "      <td>talk all the nonsense and continue all the drama will vote for modi</td>\n",
       "    </tr>\n",
       "    <tr>\n",
       "      <th>2</th>\n",
       "      <td>what did just say vote for modi  welcome bjp told you rahul the main campaigner for modi think modi should just relax</td>\n",
       "      <td>1.0</td>\n",
       "      <td>what did just say vote for modi  welcome bjp told you rahul the main campaigner for modi think modi should just relax</td>\n",
       "      <td>what did just say vote for modi  welcome bjp told you rahul the main campaigner for modi think modi should just relax</td>\n",
       "    </tr>\n",
       "    <tr>\n",
       "      <th>3</th>\n",
       "      <td>asking his supporters prefix chowkidar their names modi did great service now there confusion what read what not now crustal clear what will crass filthy nonsensical see how most abuses are coming from chowkidars</td>\n",
       "      <td>1.0</td>\n",
       "      <td>asking his supporters prefix chowkidar their names modi did great service now there confusion what read what not now crustal clear what will crass filthy nonsensical see how most abuses are coming from chowkidars</td>\n",
       "      <td>asking his supporters prefix chowkidar their names modi did great service now there confusion what read what not now crustal clear what will crass filthy nonsensical see how most abuses are coming from chowkidars</td>\n",
       "    </tr>\n",
       "    <tr>\n",
       "      <th>4</th>\n",
       "      <td>answer who among these the most powerful world leader today trump putin modi may</td>\n",
       "      <td>1.0</td>\n",
       "      <td>answer who among these the most powerful world leader today trump putin modi may</td>\n",
       "      <td>answer who among these the most powerful world leader today trump putin modi may</td>\n",
       "    </tr>\n",
       "  </tbody>\n",
       "</table>\n",
       "</div>"
      ],
      "text/plain": [
       "                                                                                                                                                                                                             clean_text  \\\n",
       "0  when modi promised “minimum government maximum governance” expected him begin the difficult job reforming the state why does take years get justice state should and not business and should exit psus and temples     \n",
       "1  talk all the nonsense and continue all the drama will vote for modi                                                                                                                                                    \n",
       "2  what did just say vote for modi  welcome bjp told you rahul the main campaigner for modi think modi should just relax                                                                                                  \n",
       "3  asking his supporters prefix chowkidar their names modi did great service now there confusion what read what not now crustal clear what will crass filthy nonsensical see how most abuses are coming from chowkidars   \n",
       "4  answer who among these the most powerful world leader today trump putin modi may                                                                                                                                       \n",
       "\n",
       "   category  \\\n",
       "0 -1.0        \n",
       "1  0.0        \n",
       "2  1.0        \n",
       "3  1.0        \n",
       "4  1.0        \n",
       "\n",
       "                                                                                                                                                                                                              clean_msg  \\\n",
       "0  when modi promised “minimum government maximum governance” expected him begin the difficult job reforming the state why does take years get justice state should and not business and should exit psus and temples     \n",
       "1  talk all the nonsense and continue all the drama will vote for modi                                                                                                                                                    \n",
       "2  what did just say vote for modi  welcome bjp told you rahul the main campaigner for modi think modi should just relax                                                                                                  \n",
       "3  asking his supporters prefix chowkidar their names modi did great service now there confusion what read what not now crustal clear what will crass filthy nonsensical see how most abuses are coming from chowkidars   \n",
       "4  answer who among these the most powerful world leader today trump putin modi may                                                                                                                                       \n",
       "\n",
       "                                                                                                                                                                                                              msg_lower  \n",
       "0  when modi promised “minimum government maximum governance” expected him begin the difficult job reforming the state why does take years get justice state should and not business and should exit psus and temples    \n",
       "1  talk all the nonsense and continue all the drama will vote for modi                                                                                                                                                   \n",
       "2  what did just say vote for modi  welcome bjp told you rahul the main campaigner for modi think modi should just relax                                                                                                 \n",
       "3  asking his supporters prefix chowkidar their names modi did great service now there confusion what read what not now crustal clear what will crass filthy nonsensical see how most abuses are coming from chowkidars  \n",
       "4  answer who among these the most powerful world leader today trump putin modi may                                                                                                                                      "
      ]
     },
     "metadata": {},
     "execution_count": 166
    }
   ],
   "metadata": {}
  },
  {
   "cell_type": "markdown",
   "source": [
    "## Stop word removal: "
   ],
   "metadata": {}
  },
  {
   "cell_type": "code",
   "execution_count": 167,
   "source": [
    "#defining function for tokenization\r\n",
    "def tokenization(text):\r\n",
    "    tokens = re.split('W+',text)\r\n",
    "    return tokens\r\n",
    "#applying function to the column\r\n",
    "df['msg_tokenied']= df['msg_lower'].apply(lambda x: tokenization(x))"
   ],
   "outputs": [],
   "metadata": {}
  },
  {
   "cell_type": "code",
   "execution_count": 168,
   "source": [
    "nltk.download('stopwords')"
   ],
   "outputs": [
    {
     "output_type": "stream",
     "name": "stderr",
     "text": [
      "[nltk_data] Downloading package stopwords to\n",
      "[nltk_data]     C:\\Users\\DELL\\AppData\\Roaming\\nltk_data...\n",
      "[nltk_data]   Package stopwords is already up-to-date!\n"
     ]
    },
    {
     "output_type": "execute_result",
     "data": {
      "text/plain": [
       "True"
      ]
     },
     "metadata": {},
     "execution_count": 168
    }
   ],
   "metadata": {}
  },
  {
   "cell_type": "code",
   "execution_count": 169,
   "source": [
    "##Stop words present in the library\r\n",
    "stopwords = nltk.corpus.stopwords.words('english')\r\n",
    "stopwords[0:10]\r\n",
    "['i', 'me', 'my', 'myself', 'we', 'our', 'ours', 'ourselves', 'you', \"you're\"]"
   ],
   "outputs": [
    {
     "output_type": "execute_result",
     "data": {
      "text/plain": [
       "['i', 'me', 'my', 'myself', 'we', 'our', 'ours', 'ourselves', 'you', \"you're\"]"
      ]
     },
     "metadata": {},
     "execution_count": 169
    }
   ],
   "metadata": {}
  },
  {
   "cell_type": "code",
   "execution_count": 170,
   "source": [
    "#defining the function to remove stopwords from tokenized text\r\n",
    "def remove_stopwords(text):\r\n",
    "    output= [i for i in text if i not in stopwords]\r\n",
    "    return output"
   ],
   "outputs": [],
   "metadata": {}
  },
  {
   "cell_type": "code",
   "execution_count": 171,
   "source": [
    "#applying the function\r\n",
    "df['no_stopwords']= df['msg_tokenied'].apply(lambda x:remove_stopwords(x))"
   ],
   "outputs": [],
   "metadata": {}
  },
  {
   "cell_type": "code",
   "execution_count": 172,
   "source": [
    "df.head()"
   ],
   "outputs": [
    {
     "output_type": "execute_result",
     "data": {
      "text/html": [
       "<div>\n",
       "<style scoped>\n",
       "    .dataframe tbody tr th:only-of-type {\n",
       "        vertical-align: middle;\n",
       "    }\n",
       "\n",
       "    .dataframe tbody tr th {\n",
       "        vertical-align: top;\n",
       "    }\n",
       "\n",
       "    .dataframe thead th {\n",
       "        text-align: right;\n",
       "    }\n",
       "</style>\n",
       "<table border=\"1\" class=\"dataframe\">\n",
       "  <thead>\n",
       "    <tr style=\"text-align: right;\">\n",
       "      <th></th>\n",
       "      <th>clean_text</th>\n",
       "      <th>category</th>\n",
       "      <th>clean_msg</th>\n",
       "      <th>msg_lower</th>\n",
       "      <th>msg_tokenied</th>\n",
       "      <th>no_stopwords</th>\n",
       "    </tr>\n",
       "  </thead>\n",
       "  <tbody>\n",
       "    <tr>\n",
       "      <th>0</th>\n",
       "      <td>when modi promised “minimum government maximum governance” expected him begin the difficult job reforming the state why does take years get justice state should and not business and should exit psus and temples</td>\n",
       "      <td>-1.0</td>\n",
       "      <td>when modi promised “minimum government maximum governance” expected him begin the difficult job reforming the state why does take years get justice state should and not business and should exit psus and temples</td>\n",
       "      <td>when modi promised “minimum government maximum governance” expected him begin the difficult job reforming the state why does take years get justice state should and not business and should exit psus and temples</td>\n",
       "      <td>[when modi promised “minimum government maximum governance” expected him begin the difficult job reforming the state why does take years get justice state should and not business and should exit psus and temples]</td>\n",
       "      <td>[when modi promised “minimum government maximum governance” expected him begin the difficult job reforming the state why does take years get justice state should and not business and should exit psus and temples]</td>\n",
       "    </tr>\n",
       "    <tr>\n",
       "      <th>1</th>\n",
       "      <td>talk all the nonsense and continue all the drama will vote for modi</td>\n",
       "      <td>0.0</td>\n",
       "      <td>talk all the nonsense and continue all the drama will vote for modi</td>\n",
       "      <td>talk all the nonsense and continue all the drama will vote for modi</td>\n",
       "      <td>[talk all the nonsense and continue all the drama will vote for modi ]</td>\n",
       "      <td>[talk all the nonsense and continue all the drama will vote for modi ]</td>\n",
       "    </tr>\n",
       "    <tr>\n",
       "      <th>2</th>\n",
       "      <td>what did just say vote for modi  welcome bjp told you rahul the main campaigner for modi think modi should just relax</td>\n",
       "      <td>1.0</td>\n",
       "      <td>what did just say vote for modi  welcome bjp told you rahul the main campaigner for modi think modi should just relax</td>\n",
       "      <td>what did just say vote for modi  welcome bjp told you rahul the main campaigner for modi think modi should just relax</td>\n",
       "      <td>[what did just say vote for modi  welcome bjp told you rahul the main campaigner for modi think modi should just relax]</td>\n",
       "      <td>[what did just say vote for modi  welcome bjp told you rahul the main campaigner for modi think modi should just relax]</td>\n",
       "    </tr>\n",
       "    <tr>\n",
       "      <th>3</th>\n",
       "      <td>asking his supporters prefix chowkidar their names modi did great service now there confusion what read what not now crustal clear what will crass filthy nonsensical see how most abuses are coming from chowkidars</td>\n",
       "      <td>1.0</td>\n",
       "      <td>asking his supporters prefix chowkidar their names modi did great service now there confusion what read what not now crustal clear what will crass filthy nonsensical see how most abuses are coming from chowkidars</td>\n",
       "      <td>asking his supporters prefix chowkidar their names modi did great service now there confusion what read what not now crustal clear what will crass filthy nonsensical see how most abuses are coming from chowkidars</td>\n",
       "      <td>[asking his supporters prefix chowkidar their names modi did great service now there confusion what read what not now crustal clear what will crass filthy nonsensical see how most abuses are coming from chowkidars]</td>\n",
       "      <td>[asking his supporters prefix chowkidar their names modi did great service now there confusion what read what not now crustal clear what will crass filthy nonsensical see how most abuses are coming from chowkidars]</td>\n",
       "    </tr>\n",
       "    <tr>\n",
       "      <th>4</th>\n",
       "      <td>answer who among these the most powerful world leader today trump putin modi may</td>\n",
       "      <td>1.0</td>\n",
       "      <td>answer who among these the most powerful world leader today trump putin modi may</td>\n",
       "      <td>answer who among these the most powerful world leader today trump putin modi may</td>\n",
       "      <td>[answer who among these the most powerful world leader today trump putin modi may ]</td>\n",
       "      <td>[answer who among these the most powerful world leader today trump putin modi may ]</td>\n",
       "    </tr>\n",
       "  </tbody>\n",
       "</table>\n",
       "</div>"
      ],
      "text/plain": [
       "                                                                                                                                                                                                             clean_text  \\\n",
       "0  when modi promised “minimum government maximum governance” expected him begin the difficult job reforming the state why does take years get justice state should and not business and should exit psus and temples     \n",
       "1  talk all the nonsense and continue all the drama will vote for modi                                                                                                                                                    \n",
       "2  what did just say vote for modi  welcome bjp told you rahul the main campaigner for modi think modi should just relax                                                                                                  \n",
       "3  asking his supporters prefix chowkidar their names modi did great service now there confusion what read what not now crustal clear what will crass filthy nonsensical see how most abuses are coming from chowkidars   \n",
       "4  answer who among these the most powerful world leader today trump putin modi may                                                                                                                                       \n",
       "\n",
       "   category  \\\n",
       "0 -1.0        \n",
       "1  0.0        \n",
       "2  1.0        \n",
       "3  1.0        \n",
       "4  1.0        \n",
       "\n",
       "                                                                                                                                                                                                              clean_msg  \\\n",
       "0  when modi promised “minimum government maximum governance” expected him begin the difficult job reforming the state why does take years get justice state should and not business and should exit psus and temples     \n",
       "1  talk all the nonsense and continue all the drama will vote for modi                                                                                                                                                    \n",
       "2  what did just say vote for modi  welcome bjp told you rahul the main campaigner for modi think modi should just relax                                                                                                  \n",
       "3  asking his supporters prefix chowkidar their names modi did great service now there confusion what read what not now crustal clear what will crass filthy nonsensical see how most abuses are coming from chowkidars   \n",
       "4  answer who among these the most powerful world leader today trump putin modi may                                                                                                                                       \n",
       "\n",
       "                                                                                                                                                                                                              msg_lower  \\\n",
       "0  when modi promised “minimum government maximum governance” expected him begin the difficult job reforming the state why does take years get justice state should and not business and should exit psus and temples     \n",
       "1  talk all the nonsense and continue all the drama will vote for modi                                                                                                                                                    \n",
       "2  what did just say vote for modi  welcome bjp told you rahul the main campaigner for modi think modi should just relax                                                                                                  \n",
       "3  asking his supporters prefix chowkidar their names modi did great service now there confusion what read what not now crustal clear what will crass filthy nonsensical see how most abuses are coming from chowkidars   \n",
       "4  answer who among these the most powerful world leader today trump putin modi may                                                                                                                                       \n",
       "\n",
       "                                                                                                                                                                                                             msg_tokenied  \\\n",
       "0  [when modi promised “minimum government maximum governance” expected him begin the difficult job reforming the state why does take years get justice state should and not business and should exit psus and temples]     \n",
       "1  [talk all the nonsense and continue all the drama will vote for modi ]                                                                                                                                                   \n",
       "2  [what did just say vote for modi  welcome bjp told you rahul the main campaigner for modi think modi should just relax]                                                                                                  \n",
       "3  [asking his supporters prefix chowkidar their names modi did great service now there confusion what read what not now crustal clear what will crass filthy nonsensical see how most abuses are coming from chowkidars]   \n",
       "4  [answer who among these the most powerful world leader today trump putin modi may ]                                                                                                                                      \n",
       "\n",
       "                                                                                                                                                                                                             no_stopwords  \n",
       "0  [when modi promised “minimum government maximum governance” expected him begin the difficult job reforming the state why does take years get justice state should and not business and should exit psus and temples]    \n",
       "1  [talk all the nonsense and continue all the drama will vote for modi ]                                                                                                                                                  \n",
       "2  [what did just say vote for modi  welcome bjp told you rahul the main campaigner for modi think modi should just relax]                                                                                                 \n",
       "3  [asking his supporters prefix chowkidar their names modi did great service now there confusion what read what not now crustal clear what will crass filthy nonsensical see how most abuses are coming from chowkidars]  \n",
       "4  [answer who among these the most powerful world leader today trump putin modi may ]                                                                                                                                     "
      ]
     },
     "metadata": {},
     "execution_count": 172
    }
   ],
   "metadata": {}
  },
  {
   "cell_type": "markdown",
   "source": [
    "## Stemming"
   ],
   "metadata": {}
  },
  {
   "cell_type": "code",
   "execution_count": 173,
   "source": [
    "\r\n",
    "#defining the object for stemming\r\n",
    "porter_stemmer = PorterStemmer()"
   ],
   "outputs": [],
   "metadata": {}
  },
  {
   "cell_type": "code",
   "execution_count": 174,
   "source": [
    "#defining a function for stemming\r\n",
    "def stemming(text):\r\n",
    "    stem_text = [porter_stemmer.stem(word) for word in text]\r\n",
    "    return stem_text\r\n",
    "df['msg_stemmed']=df['no_stopwords'].apply(lambda x: stemming(x))"
   ],
   "outputs": [],
   "metadata": {}
  },
  {
   "cell_type": "code",
   "execution_count": 175,
   "source": [
    "df.head()"
   ],
   "outputs": [
    {
     "output_type": "execute_result",
     "data": {
      "text/html": [
       "<div>\n",
       "<style scoped>\n",
       "    .dataframe tbody tr th:only-of-type {\n",
       "        vertical-align: middle;\n",
       "    }\n",
       "\n",
       "    .dataframe tbody tr th {\n",
       "        vertical-align: top;\n",
       "    }\n",
       "\n",
       "    .dataframe thead th {\n",
       "        text-align: right;\n",
       "    }\n",
       "</style>\n",
       "<table border=\"1\" class=\"dataframe\">\n",
       "  <thead>\n",
       "    <tr style=\"text-align: right;\">\n",
       "      <th></th>\n",
       "      <th>clean_text</th>\n",
       "      <th>category</th>\n",
       "      <th>clean_msg</th>\n",
       "      <th>msg_lower</th>\n",
       "      <th>msg_tokenied</th>\n",
       "      <th>no_stopwords</th>\n",
       "      <th>msg_stemmed</th>\n",
       "    </tr>\n",
       "  </thead>\n",
       "  <tbody>\n",
       "    <tr>\n",
       "      <th>0</th>\n",
       "      <td>when modi promised “minimum government maximum governance” expected him begin the difficult job reforming the state why does take years get justice state should and not business and should exit psus and temples</td>\n",
       "      <td>-1.0</td>\n",
       "      <td>when modi promised “minimum government maximum governance” expected him begin the difficult job reforming the state why does take years get justice state should and not business and should exit psus and temples</td>\n",
       "      <td>when modi promised “minimum government maximum governance” expected him begin the difficult job reforming the state why does take years get justice state should and not business and should exit psus and temples</td>\n",
       "      <td>[when modi promised “minimum government maximum governance” expected him begin the difficult job reforming the state why does take years get justice state should and not business and should exit psus and temples]</td>\n",
       "      <td>[when modi promised “minimum government maximum governance” expected him begin the difficult job reforming the state why does take years get justice state should and not business and should exit psus and temples]</td>\n",
       "      <td>[when modi promised “minimum government maximum governance” expected him begin the difficult job reforming the state why does take years get justice state should and not business and should exit psus and templ]</td>\n",
       "    </tr>\n",
       "    <tr>\n",
       "      <th>1</th>\n",
       "      <td>talk all the nonsense and continue all the drama will vote for modi</td>\n",
       "      <td>0.0</td>\n",
       "      <td>talk all the nonsense and continue all the drama will vote for modi</td>\n",
       "      <td>talk all the nonsense and continue all the drama will vote for modi</td>\n",
       "      <td>[talk all the nonsense and continue all the drama will vote for modi ]</td>\n",
       "      <td>[talk all the nonsense and continue all the drama will vote for modi ]</td>\n",
       "      <td>[talk all the nonsense and continue all the drama will vote for modi ]</td>\n",
       "    </tr>\n",
       "    <tr>\n",
       "      <th>2</th>\n",
       "      <td>what did just say vote for modi  welcome bjp told you rahul the main campaigner for modi think modi should just relax</td>\n",
       "      <td>1.0</td>\n",
       "      <td>what did just say vote for modi  welcome bjp told you rahul the main campaigner for modi think modi should just relax</td>\n",
       "      <td>what did just say vote for modi  welcome bjp told you rahul the main campaigner for modi think modi should just relax</td>\n",
       "      <td>[what did just say vote for modi  welcome bjp told you rahul the main campaigner for modi think modi should just relax]</td>\n",
       "      <td>[what did just say vote for modi  welcome bjp told you rahul the main campaigner for modi think modi should just relax]</td>\n",
       "      <td>[what did just say vote for modi  welcome bjp told you rahul the main campaigner for modi think modi should just relax]</td>\n",
       "    </tr>\n",
       "    <tr>\n",
       "      <th>3</th>\n",
       "      <td>asking his supporters prefix chowkidar their names modi did great service now there confusion what read what not now crustal clear what will crass filthy nonsensical see how most abuses are coming from chowkidars</td>\n",
       "      <td>1.0</td>\n",
       "      <td>asking his supporters prefix chowkidar their names modi did great service now there confusion what read what not now crustal clear what will crass filthy nonsensical see how most abuses are coming from chowkidars</td>\n",
       "      <td>asking his supporters prefix chowkidar their names modi did great service now there confusion what read what not now crustal clear what will crass filthy nonsensical see how most abuses are coming from chowkidars</td>\n",
       "      <td>[asking his supporters prefix chowkidar their names modi did great service now there confusion what read what not now crustal clear what will crass filthy nonsensical see how most abuses are coming from chowkidars]</td>\n",
       "      <td>[asking his supporters prefix chowkidar their names modi did great service now there confusion what read what not now crustal clear what will crass filthy nonsensical see how most abuses are coming from chowkidars]</td>\n",
       "      <td>[asking his supporters prefix chowkidar their names modi did great service now there confusion what read what not now crustal clear what will crass filthy nonsensical see how most abuses are coming from chowkidar]</td>\n",
       "    </tr>\n",
       "    <tr>\n",
       "      <th>4</th>\n",
       "      <td>answer who among these the most powerful world leader today trump putin modi may</td>\n",
       "      <td>1.0</td>\n",
       "      <td>answer who among these the most powerful world leader today trump putin modi may</td>\n",
       "      <td>answer who among these the most powerful world leader today trump putin modi may</td>\n",
       "      <td>[answer who among these the most powerful world leader today trump putin modi may ]</td>\n",
       "      <td>[answer who among these the most powerful world leader today trump putin modi may ]</td>\n",
       "      <td>[answer who among these the most powerful world leader today trump putin modi may ]</td>\n",
       "    </tr>\n",
       "  </tbody>\n",
       "</table>\n",
       "</div>"
      ],
      "text/plain": [
       "                                                                                                                                                                                                             clean_text  \\\n",
       "0  when modi promised “minimum government maximum governance” expected him begin the difficult job reforming the state why does take years get justice state should and not business and should exit psus and temples     \n",
       "1  talk all the nonsense and continue all the drama will vote for modi                                                                                                                                                    \n",
       "2  what did just say vote for modi  welcome bjp told you rahul the main campaigner for modi think modi should just relax                                                                                                  \n",
       "3  asking his supporters prefix chowkidar their names modi did great service now there confusion what read what not now crustal clear what will crass filthy nonsensical see how most abuses are coming from chowkidars   \n",
       "4  answer who among these the most powerful world leader today trump putin modi may                                                                                                                                       \n",
       "\n",
       "   category  \\\n",
       "0 -1.0        \n",
       "1  0.0        \n",
       "2  1.0        \n",
       "3  1.0        \n",
       "4  1.0        \n",
       "\n",
       "                                                                                                                                                                                                              clean_msg  \\\n",
       "0  when modi promised “minimum government maximum governance” expected him begin the difficult job reforming the state why does take years get justice state should and not business and should exit psus and temples     \n",
       "1  talk all the nonsense and continue all the drama will vote for modi                                                                                                                                                    \n",
       "2  what did just say vote for modi  welcome bjp told you rahul the main campaigner for modi think modi should just relax                                                                                                  \n",
       "3  asking his supporters prefix chowkidar their names modi did great service now there confusion what read what not now crustal clear what will crass filthy nonsensical see how most abuses are coming from chowkidars   \n",
       "4  answer who among these the most powerful world leader today trump putin modi may                                                                                                                                       \n",
       "\n",
       "                                                                                                                                                                                                              msg_lower  \\\n",
       "0  when modi promised “minimum government maximum governance” expected him begin the difficult job reforming the state why does take years get justice state should and not business and should exit psus and temples     \n",
       "1  talk all the nonsense and continue all the drama will vote for modi                                                                                                                                                    \n",
       "2  what did just say vote for modi  welcome bjp told you rahul the main campaigner for modi think modi should just relax                                                                                                  \n",
       "3  asking his supporters prefix chowkidar their names modi did great service now there confusion what read what not now crustal clear what will crass filthy nonsensical see how most abuses are coming from chowkidars   \n",
       "4  answer who among these the most powerful world leader today trump putin modi may                                                                                                                                       \n",
       "\n",
       "                                                                                                                                                                                                             msg_tokenied  \\\n",
       "0  [when modi promised “minimum government maximum governance” expected him begin the difficult job reforming the state why does take years get justice state should and not business and should exit psus and temples]     \n",
       "1  [talk all the nonsense and continue all the drama will vote for modi ]                                                                                                                                                   \n",
       "2  [what did just say vote for modi  welcome bjp told you rahul the main campaigner for modi think modi should just relax]                                                                                                  \n",
       "3  [asking his supporters prefix chowkidar their names modi did great service now there confusion what read what not now crustal clear what will crass filthy nonsensical see how most abuses are coming from chowkidars]   \n",
       "4  [answer who among these the most powerful world leader today trump putin modi may ]                                                                                                                                      \n",
       "\n",
       "                                                                                                                                                                                                             no_stopwords  \\\n",
       "0  [when modi promised “minimum government maximum governance” expected him begin the difficult job reforming the state why does take years get justice state should and not business and should exit psus and temples]     \n",
       "1  [talk all the nonsense and continue all the drama will vote for modi ]                                                                                                                                                   \n",
       "2  [what did just say vote for modi  welcome bjp told you rahul the main campaigner for modi think modi should just relax]                                                                                                  \n",
       "3  [asking his supporters prefix chowkidar their names modi did great service now there confusion what read what not now crustal clear what will crass filthy nonsensical see how most abuses are coming from chowkidars]   \n",
       "4  [answer who among these the most powerful world leader today trump putin modi may ]                                                                                                                                      \n",
       "\n",
       "                                                                                                                                                                                                             msg_stemmed  \n",
       "0  [when modi promised “minimum government maximum governance” expected him begin the difficult job reforming the state why does take years get justice state should and not business and should exit psus and templ]     \n",
       "1  [talk all the nonsense and continue all the drama will vote for modi ]                                                                                                                                                 \n",
       "2  [what did just say vote for modi  welcome bjp told you rahul the main campaigner for modi think modi should just relax]                                                                                                \n",
       "3  [asking his supporters prefix chowkidar their names modi did great service now there confusion what read what not now crustal clear what will crass filthy nonsensical see how most abuses are coming from chowkidar]  \n",
       "4  [answer who among these the most powerful world leader today trump putin modi may ]                                                                                                                                    "
      ]
     },
     "metadata": {},
     "execution_count": 175
    }
   ],
   "metadata": {}
  },
  {
   "cell_type": "markdown",
   "source": [
    "## Lemmatization"
   ],
   "metadata": {}
  },
  {
   "cell_type": "code",
   "execution_count": 176,
   "source": [
    "#defining the function for lemmatization\r\n",
    "def lemmatizer(text):\r\n",
    "    lemm_text = [wordnet_lemmatizer.lemmatize(word) for word in text]\r\n",
    "    return lemm_text\r\n",
    "df['msg_lemmatized']=df['no_stopwords'].apply(lambda x:lemmatizer(x))"
   ],
   "outputs": [],
   "metadata": {}
  }
 ],
 "metadata": {
  "kernelspec": {
   "name": "python3",
   "display_name": "Python 3.9.4 64-bit"
  },
  "language_info": {
   "codemirror_mode": {
    "name": "ipython",
    "version": 3
   },
   "file_extension": ".py",
   "mimetype": "text/x-python",
   "name": "python",
   "nbconvert_exporter": "python",
   "pygments_lexer": "ipython3",
   "version": "3.9.4"
  },
  "interpreter": {
   "hash": "ac59ebe37160ed0dfa835113d9b8498d9f09ceb179beaac4002f036b9467c963"
  }
 },
 "nbformat": 4,
 "nbformat_minor": 5
}