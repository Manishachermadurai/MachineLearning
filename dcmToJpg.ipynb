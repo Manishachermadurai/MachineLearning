{
  "nbformat": 4,
  "nbformat_minor": 0,
  "metadata": {
    "colab": {
      "provenance": [],
      "authorship_tag": "ABX9TyOsBAHqhWXcknSPdvFPxOuB",
      "include_colab_link": true
    },
    "kernelspec": {
      "name": "python3",
      "display_name": "Python 3"
    },
    "language_info": {
      "name": "python"
    }
  },
  "cells": [
    {
      "cell_type": "markdown",
      "metadata": {
        "id": "view-in-github",
        "colab_type": "text"
      },
      "source": [
        "<a href=\"https://colab.research.google.com/github/Manishachermadurai/MachineLearning/blob/main/dcmToJpg.ipynb\" target=\"_parent\"><img src=\"https://colab.research.google.com/assets/colab-badge.svg\" alt=\"Open In Colab\"/></a>"
      ]
    },
    {
      "cell_type": "code",
      "execution_count": null,
      "metadata": {
        "id": "WTgNdsNo6RtR"
      },
      "outputs": [],
      "source": [
        "#connecting google drive for accessing dataset\n",
        "from google.colab import drive\n",
        "drive.mount('/content/gdrive')"
      ]
    },
    {
      "cell_type": "code",
      "source": [
        "!pip install pydicom\n",
        "!pip install pillow\n",
        "!pip install pandas\n",
        "!pip install opencv-python\n",
        "!pip install numpy"
      ],
      "metadata": {
        "id": "GMaqfkm168Ho"
      },
      "execution_count": null,
      "outputs": []
    },
    {
      "cell_type": "code",
      "source": [
        "import pydicom as dicom\n",
        "import matplotlib.pyplot as plt\n",
        "import os\n",
        "import cv2\n",
        "import PIL # optional\n",
        "import pandas as pd\n",
        "import csv"
      ],
      "metadata": {
        "id": "VQzuNhrZ6-dA"
      },
      "execution_count": null,
      "outputs": []
    },
    {
      "cell_type": "code",
      "source": [
        "# make it True if you want in PNG format\n",
        "PNG = False\n",
        "# Specify the .dcm folder path\n",
        "folder_path = \"/content/gdrive/My Drive/ParkinsonDataset/\"\n",
        "# Specify the .jpg/.png folder path\n",
        "jpg_folder_path = \"/content/gdrive/My Drive/ParkinsonDatasetJpg/data/\"\n",
        "images_path = os.listdir(folder_path)\n",
        "# list of attributes available in dicom image\n",
        "# download this file from the given link # https://github.com/vivek8981/DICOM-to-JPG\n",
        "dicom_image_description = pd.read_csv(\"/content/gdrive/My Drive/dicom_image_description.csv\")"
      ],
      "metadata": {
        "id": "kUapB5jO7BPK"
      },
      "execution_count": null,
      "outputs": []
    },
    {
      "cell_type": "code",
      "source": [
        "images_path = os.listdir(folder_path)\n",
        "for n, image in enumerate(images_path):\n",
        "    ds = dicom.dcmread(os.path.join(folder_path, image))\n",
        "    pixel_array_numpy = ds.pixel_array\n",
        "    if PNG == False:\n",
        "        image = image.replace('.dcm', '.jpg')\n",
        "    else:\n",
        "        image = image.replace('.dcm', '.png')\n",
        "    cv2.imwrite(os.path.join(jpg_folder_path, image), pixel_array_numpy)\n",
        "    if n % 50 == 0:\n",
        "        print('{} image converted'.format(n))"
      ],
      "metadata": {
        "id": "2MHmbL2p7Gpw"
      },
      "execution_count": null,
      "outputs": []
    }
  ]
}